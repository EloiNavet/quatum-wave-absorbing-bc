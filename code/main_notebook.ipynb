{
 "cells": [
  {
   "cell_type": "markdown",
   "metadata": {},
   "source": [
    "# Experiment on Absorbing Boundary Conditions and Perfectly Matched Layers\n",
    "\n",
    "---\n",
    "## 1 - Introduction\n",
    "\n",
    "This document presents the results of our simulations. The source code can be found in the sub-files\n",
    "\n",
    "The organization of this experimental paper follows that of the review of the article [*A Friendly Review of Absorbing Boundary Conditions and Perfectly Matched Layers for Classical and Relativistic Quantum Waves Equations*](https://www.tandfonline.com/doi/abs/10.1080/00268976.2017.1290834) by X. Antoinea, E. Lorinb and Q. Tanga.\n",
    "\n",
    "The code was written by Linnea Hallin, Maxime Renard, Eloi Navet & Nicolas Roblet under the direction of Ms Brigitte Bidegaray-Fesquet and Mr Clément Jourdana.\n",
    "\n",
    "This file serves as an exhibition of the code produced. Its structure follows that of the project report.\n",
    "\n",
    "*Note:* The python version used for development is the 3.10.12."
   ]
  },
  {
   "cell_type": "markdown",
   "metadata": {},
   "source": [
    "## 2 - One-dimensional Wave equation\n",
    "We simulate the homogoneous diffusion equation\n",
    "\\begin{equation}\n",
    "    \\left \\{\\begin{array}{ll}\n",
    "        \\partial_{tt}\\psi - c^2 \\partial_{xx}\\psi = 0 \\hspace{2.25cm} \\text{in} \\quad\\R\\times(0,+\\infty),\\\\\n",
    "        \\psi(\\cdot,0) = \\psi_0,~~ \\partial_t\\psi(\\cdot,0) = \\psi_{t,0}\\quad~~~\\text{on}\\quad \\R.\n",
    "    \\end{array}\\right.\n",
    "\\end{equation}\n",
    "\n",
    "Let's then define simulation variable."
   ]
  },
  {
   "cell_type": "code",
   "execution_count": null,
   "metadata": {},
   "outputs": [],
   "source": [
    "import numpy as np\n",
    "\n",
    "# Importation of the function\n",
    "from wave_eq.wave_simul_implementation import main_experience as wave_experience\n",
    "\n",
    "# Time mesh\n",
    "period_to_emulate = 0.5\n",
    "T_nb_point = 1000\n",
    "\n",
    "# Space mesh\n",
    "space_interval = (-1, 2)\n",
    "X_nb_point = 500\n",
    "\n",
    "# Celerity\n",
    "c = 6\n",
    "\n",
    "# Point source\n",
    "Q = np.zeros(X_nb_point)"
   ]
  },
  {
   "cell_type": "markdown",
   "metadata": {},
   "source": [
    "The proposed initial condition $\\psi_0$ is a **double gaussian** as following and $\\psi_{t,0}$ **null**.  "
   ]
  },
  {
   "cell_type": "code",
   "execution_count": 3,
   "metadata": {},
   "outputs": [],
   "source": [
    "import matplotlib.pyplot as plt\n",
    "\n",
    "# Initial condition (a default function is implemented)\n",
    "def double_gaussian(x):\n",
    "    psi_0_x = np.exp(-((x - (space_interval[0] + 0.2 * (space_interval[1] - space_interval[0])))** 2)/ (0.1**2))\n",
    "    psi_0_x += np.exp(-((x - (space_interval[0] + 0.6 * (space_interval[1] - space_interval[0])))** 2)/ (0.1**2))\n",
    "    return psi_0_x\n",
    "\n",
    "psi_0 = double_gaussian\n",
    "dtpsi_0 = lambda x: 0\n",
    "\n",
    "interval_inf, interval_sup = space_interval\n",
    "x = np.linspace(interval_inf, interval_sup, X_nb_point)\n",
    "\n",
    "plt.plot(x, psi_0(x))\n",
    "plt.title(\n",
    "    r\"Graph of $\\psi_0$\"\n",
    ")\n",
    "plt.xlabel(\"x\")\n",
    "plt.show()"
   ]
  },
  {
   "cell_type": "markdown",
   "metadata": {},
   "source": [
    "### 2.2) Classic boundary conditions\n",
    "#### 2.2.1) Dirichlet boundary condition"
   ]
  },
  {
   "cell_type": "code",
   "execution_count": 4,
   "metadata": {},
   "outputs": [],
   "source": [
    "# Value at boundaries\n",
    "bc_right_left_value = (0, 0)\n",
    "\n",
    "# Launch code\n",
    "wave_experience(\n",
    "    period_to_emulate=period_to_emulate,\n",
    "    T_nb_point=T_nb_point,\n",
    "    space_interval=space_interval,\n",
    "    X_nb_point=X_nb_point,\n",
    "    c=c,\n",
    "    psi=psi_0,\n",
    "    bctype=\"dirichlet\",\n",
    "    bc_right_left_value=bc_right_left_value,\n",
    "    Q=Q,\n",
    ");"
   ]
  },
  {
   "cell_type": "markdown",
   "metadata": {},
   "source": [
    "#### 2.2.2) Periodic boundary condition"
   ]
  },
  {
   "cell_type": "code",
   "execution_count": 5,
   "metadata": {},
   "outputs": [],
   "source": [
    "# Launch code\n",
    "wave_experience(\n",
    "    period_to_emulate=period_to_emulate,\n",
    "    T_nb_point=T_nb_point,\n",
    "    space_interval=space_interval,\n",
    "    X_nb_point=X_nb_point,\n",
    "    c=c,\n",
    "    psi=psi_0,\n",
    "    bctype=\"periodic\",\n",
    "    Q=Q,\n",
    ");"
   ]
  },
  {
   "cell_type": "markdown",
   "metadata": {},
   "source": [
    "#### 2.2.3) Neumann boundary condition"
   ]
  },
  {
   "cell_type": "code",
   "execution_count": 6,
   "metadata": {},
   "outputs": [],
   "source": [
    "# Value at boundaries\n",
    "bc_right_left_value = (0, 0)\n",
    "\n",
    "# Launch code\n",
    "wave_experience(\n",
    "    period_to_emulate=period_to_emulate,\n",
    "    T_nb_point=T_nb_point,\n",
    "    space_interval=space_interval,\n",
    "    X_nb_point=X_nb_point,\n",
    "    c=c,\n",
    "    psi=psi_0,\n",
    "    bctype=\"neumann\",\n",
    "    bc_right_left_value=bc_right_left_value,\n",
    "    Q=Q,\n",
    ");"
   ]
  },
  {
   "cell_type": "markdown",
   "metadata": {},
   "source": [
    "#### 2.3) Adding a source term"
   ]
  },
  {
   "cell_type": "code",
   "execution_count": 7,
   "metadata": {},
   "outputs": [],
   "source": [
    "tmp_x = np.linspace(space_interval[0], space_interval[-1], X_nb_point)\n",
    "Q = lambda x: np.exp(-100.0 * x**2)\n",
    "psi_test_Q = np.zeros(X_nb_point)\n",
    "\n",
    "# Value at boundaries\n",
    "bc_right_left_value = (0, 0)\n",
    "\n",
    "# Launch code\n",
    "wave_experience(\n",
    "    period_to_emulate=period_to_emulate,\n",
    "    T_nb_point=T_nb_point,\n",
    "    space_interval=space_interval,\n",
    "    X_nb_point=X_nb_point,\n",
    "    c=c,\n",
    "    psi=psi_test_Q,\n",
    "    bctype=\"neumann\",\n",
    "    bc_right_left_value=bc_right_left_value,\n",
    "    Q=Q,\n",
    ");"
   ]
  },
  {
   "cell_type": "markdown",
   "metadata": {},
   "source": [
    "### 2.4) Absorbing boundary condition"
   ]
  },
  {
   "cell_type": "code",
   "execution_count": 8,
   "metadata": {},
   "outputs": [],
   "source": [
    "# Launch code\n",
    "wave_experience(\n",
    "    period_to_emulate=period_to_emulate,\n",
    "    T_nb_point=T_nb_point,\n",
    "    space_interval=space_interval,\n",
    "    X_nb_point=X_nb_point,\n",
    "    c=c,\n",
    "    psi=psi_0,\n",
    "    bctype=\"transparent\",\n",
    "    # Q = Q\n",
    ");"
   ]
  },
  {
   "cell_type": "markdown",
   "metadata": {},
   "source": [
    "### 2.5) Study of the complete initial value problem\n",
    "Let now consder a initial condition $\\psi_{t,0}$ **non null**.  \n",
    "To do this, let's consider, as explained in the study\n",
    "$$\n",
    "\\forall x \\in \\R, \\qquad \\psi_{t,0}(x) = -c \\psi_0'(x).\n",
    "$$"
   ]
  },
  {
   "cell_type": "code",
   "execution_count": 9,
   "metadata": {},
   "outputs": [],
   "source": [
    "def double_gaussian_deriv(x, c = c):\n",
    "    def gaussian_term(x, center, width):\n",
    "        return -2 * (x - center) * np.exp(-((x - center) ** 2) / (width ** 2)) / (width ** 2)\n",
    "\n",
    "    psi_0_x = gaussian_term(x, space_interval[0] + 0.2 * (space_interval[1] - space_interval[0]), 0.1)\n",
    "    psi_0_x += gaussian_term(x, space_interval[0] + 0.6 * (space_interval[1] - space_interval[0]), 0.1)\n",
    "\n",
    "    return -c * psi_0_x\n",
    "\n",
    "dtpsi_0 = lambda x : double_gaussian_deriv(x, c)\n",
    "\n",
    "plt.plot(x, dtpsi_0(x))\n",
    "plt.title(r\"Graph of $\\psi_0'$\")\n",
    "plt.show()"
   ]
  },
  {
   "cell_type": "code",
   "execution_count": 10,
   "metadata": {},
   "outputs": [],
   "source": [
    "wave_experience(\n",
    "    period_to_emulate=period_to_emulate,\n",
    "    T_nb_point=T_nb_point,\n",
    "    space_interval=space_interval,\n",
    "    X_nb_point=X_nb_point,\n",
    "    c=c,\n",
    "    psi=psi_0,\n",
    "    dtpsi=dtpsi_0,\n",
    "    bctype=\"transparent\",\n",
    ");"
   ]
  },
  {
   "cell_type": "markdown",
   "metadata": {},
   "source": [
    "### 2.6) Study of the error\n",
    "#### 2.6.1) Exact error"
   ]
  },
  {
   "cell_type": "code",
   "execution_count": 11,
   "metadata": {},
   "outputs": [],
   "source": [
    "from wave_eq.wave_study_error import main_experience_error as wave_error_study\n",
    "\n",
    "res_exact, res_simul, abs_error = wave_error_study(\n",
    "    period_to_emulate=period_to_emulate,\n",
    "    T_nb_point=T_nb_point,\n",
    "    space_interval=space_interval,\n",
    "    X_nb_point=X_nb_point,\n",
    "    c=c,\n",
    "    psi=psi_0,\n",
    "    # dtpsi=dtpsi_0,\n",
    "    bctype=\"transparent\",\n",
    ");"
   ]
  },
  {
   "cell_type": "code",
   "execution_count": 12,
   "metadata": {},
   "outputs": [],
   "source": [
    "%%capture\n",
    "%matplotlib inline\n",
    "import matplotlib.animation as animation\n",
    "plt.rcParams[\"animation.html\"] = \"jshtml\"\n",
    "\n",
    "nb_frames = 30\n",
    "dt = period_to_emulate/T_nb_point\n",
    "\n",
    "fig, ax = plt.subplots(1, 2, figsize=(15, 5))\n",
    "def animate(i):\n",
    "    ind = int(i * T_nb_point / nb_frames)\n",
    "    ax[0].clear()\n",
    "    ax[1].clear()\n",
    "    ax[0].plot(x, np.abs(res_exact[ind]), label = \"exact\")\n",
    "    ax[0].plot(x, np.abs(res_simul[ind]), label = \"simul\")\n",
    "    ax[1].plot(x, abs_error[ind], label = \"error\")\n",
    "    ax[0].set_title(r'Evolution of wave equation')\n",
    "    ax[0].set_xlabel('x')\n",
    "    ax[0].set_ylim(-1.1, 1.1)\n",
    "    ax[0].set_ylabel(r'$|\\psi(t,\\cdot)|$')\n",
    "    ax[1].set_title('Error')\n",
    "    ax[1].set_xlabel('x')\n",
    "    ax[1].set_ylabel('Time')\n",
    "    ax[0].legend()\n",
    "    ax[1].legend()\n",
    "    fig.suptitle(f\"State at t={(ind*dt):.6g}\", fontsize=16)\n",
    "\n",
    "ani = animation.FuncAnimation(fig, animate, frames=nb_frames)\n",
    "ani"
   ]
  },
  {
   "cell_type": "markdown",
   "metadata": {},
   "source": [
    "#### 2.6.2) Isolating reflections\n",
    "\n",
    "The notation $\\psi$ is used to denote the wave function computed as before, and $\\phi$ to one computed on a larger domain. Then, to isolate reflections, the function $\\psi - \\phi|_\\Omega$ is plotted."
   ]
  },
  {
   "cell_type": "code",
   "execution_count": 14,
   "metadata": {},
   "outputs": [],
   "source": [
    "from wave_eq.wave_study_error import isolate_reflections\n",
    "\n",
    "isolate_reflections(\n",
    "    period_to_emulate=1.0,\n",
    "    T_nb_point=2*T_nb_point,\n",
    "    space_interval=space_interval,\n",
    "    X_nb_point=2*X_nb_point,\n",
    "    c=c,\n",
    "    psi=psi_0,\n",
    "    bctype=\"transparent\",\n",
    ");"
   ]
  },
  {
   "cell_type": "markdown",
   "metadata": {},
   "source": [
    "## 3 - Schrödinger equation\n",
    "We simulate the nonhomogeneous diffusion equation\n",
    "\\begin{equation}\n",
    "    i\\partial_t \\psi + \\Delta \\psi + V\\psi = 0,\n",
    "\\end{equation}\n",
    "  \n",
    "Here we simulate the following zero-potential equation:\n",
    "$$\n",
    "    \\left\\{\\begin{array}{l}\\partial_t \\psi^{\\text {int }}-i\\partial_{xx} \\psi^{\\text {int }}=0, \\quad(x, t) \\in \\Omega_{\\text{PeriodToEmulate}}, \\\\\n",
    "     \\partial_{\\mathbf{n}} \\psi^{\\text {int }}+e^{-i \\pi / 4} \\partial_t^{1 / 2} \\psi^{\\text {int }}=0, \\quad(x, t) \\in \\Sigma_{\\text{PeriodToEmulate}}, \\\\\n",
    "      \\psi^{\\text {int }}(x, 0)=\\psi_0(x), \\quad x \\in \\Omega.\\end{array}\\right.\n",
    "$$\n",
    "I.e. for transparent boundary condition with $c = i, ~T=2, ~\\delta_t= 10^{-3}, ~\\Omega = [-10,10]$ and $\\delta_x= 2\\cdot10^-2$.\n",
    "\n",
    "Here is the initialization with a single wave traveling towards the right side of the domain."
   ]
  },
  {
   "cell_type": "code",
   "execution_count": 15,
   "metadata": {},
   "outputs": [],
   "source": [
    "%matplotlib inline\n",
    "import numpy as np\n",
    "import matplotlib.pyplot as plt\n",
    "\n",
    "from schroedinger_eq.schroedinger_simul_implementation import main_experience as schroedinger_simul_experience\n",
    "\n",
    "# Time mesh\n",
    "period_to_emulate = 2\n",
    "T_nb_point  = 501\n",
    "\n",
    "# Space mesh\n",
    "space_interval  = (-10,10)\n",
    "X_nb_point  = 501\n",
    "\n",
    "# Initial condition (a default function is implemented)\n",
    "def single_wave(x):\n",
    "    psi_0_x = 2 / np.cosh(np.sqrt(2) * x) * np.exp(1j * 15 / 2 * x)  # See the article\n",
    "    return psi_0_x\n",
    "\n",
    "psi_0 = single_wave\n",
    "\n",
    "#plot psi_0\n",
    "interval_inf = space_interval[0]\n",
    "interval_sup = space_interval[1]\n",
    "x = np.linspace(interval_inf, interval_sup, X_nb_point)\n",
    "plt.plot(x, np.real(psi_0(x)), label=\"real part\")\n",
    "plt.plot(x, np.imag(psi_0(x)), label=\"imaginary part\")\n",
    "plt.legend()\n",
    "plt.title(r\"Graph of $\\psi_0$ with $||\\psi_0||_{L_1}=$\" + f'{np.round(np.sum(np.abs(psi_0(x)))/X_nb_point, 4)}')\n",
    "plt.show()"
   ]
  },
  {
   "cell_type": "markdown",
   "metadata": {},
   "source": [
    "### 3.2) Classic boundary conditions\n",
    "#### 3.2.1) Dirichlet Boundary condition"
   ]
  },
  {
   "cell_type": "code",
   "execution_count": 16,
   "metadata": {},
   "outputs": [],
   "source": [
    "bc_right_left_value = (0, 0)\n",
    "\n",
    "schroedinger_simul_experience(\n",
    "    period_to_emulate=period_to_emulate,\n",
    "    T_nb_point=T_nb_point,\n",
    "    space_interval=space_interval,\n",
    "    X_nb_point=X_nb_point,\n",
    "    psi=psi_0,\n",
    "    bctype=\"dirichlet\",\n",
    "    bc_right_left_value=bc_right_left_value,\n",
    ");"
   ]
  },
  {
   "cell_type": "markdown",
   "metadata": {},
   "source": [
    "#### 3.2.2) Neumann Boundary condition\n"
   ]
  },
  {
   "cell_type": "code",
   "execution_count": 17,
   "metadata": {},
   "outputs": [],
   "source": [
    "bc_right_left_value = (0, 0)\n",
    "\n",
    "# Launch code\n",
    "schroedinger_simul_experience(\n",
    "    period_to_emulate=period_to_emulate,\n",
    "    T_nb_point=T_nb_point,\n",
    "    space_interval=space_interval,\n",
    "    X_nb_point=X_nb_point,\n",
    "    psi=psi_0,\n",
    "    bctype=\"neumann\",\n",
    "    bc_right_left_value=bc_right_left_value,\n",
    ");"
   ]
  },
  {
   "cell_type": "markdown",
   "metadata": {},
   "source": [
    "### 3.3) Absorbing boundary condition"
   ]
  },
  {
   "cell_type": "code",
   "execution_count": 18,
   "metadata": {},
   "outputs": [],
   "source": [
    "schroedinger_simul_experience(\n",
    "    period_to_emulate=period_to_emulate,\n",
    "    T_nb_point=T_nb_point,\n",
    "    space_interval=space_interval,\n",
    "    X_nb_point=X_nb_point,\n",
    "    psi=psi_0,\n",
    "    bctype=\"transparent_basic\",\n",
    ");"
   ]
  },
  {
   "cell_type": "markdown",
   "metadata": {},
   "source": [
    "### 3.4) Adding a potential\n",
    "\n",
    "We add an attractive potential i.e. $V(x) = - 2\\|x\\|^2$ so that the border is not touched by the wave."
   ]
  },
  {
   "cell_type": "code",
   "execution_count": 19,
   "metadata": {},
   "outputs": [],
   "source": [
    "def space_potential(x, t):\n",
    "    return -2.0 * np.abs(x) ** 2\n",
    "\n",
    "\n",
    "V_independent = space_potential\n",
    "bc_right_left_value = (0, 0)\n",
    "\n",
    "# Launch code\n",
    "schroedinger_simul_experience(\n",
    "    period_to_emulate=period_to_emulate,\n",
    "    T_nb_point=T_nb_point,\n",
    "    space_interval=space_interval,\n",
    "    X_nb_point=X_nb_point,\n",
    "    psi=psi_0,\n",
    "    bctype=\"transparent_potential\",\n",
    "    bc_right_left_value=bc_right_left_value,\n",
    "    V_independent=V_independent,\n",
    ");"
   ]
  },
  {
   "cell_type": "markdown",
   "metadata": {},
   "source": [
    "Trial with a lighter potential to let the wave touch the boundary : $V(x,t) = -0.1\\|x\\|^2$."
   ]
  },
  {
   "cell_type": "code",
   "execution_count": 20,
   "metadata": {},
   "outputs": [],
   "source": [
    "def space_potential(x, t):\n",
    "    return -0.1 * np.abs(x) ** 2\n",
    "\n",
    "\n",
    "V_independent = space_potential\n",
    "bc_right_left_value = (0, 0)\n",
    "\n",
    "# Launch code\n",
    "schroedinger_simul_experience(\n",
    "    period_to_emulate=period_to_emulate,\n",
    "    T_nb_point=T_nb_point,\n",
    "    space_interval=space_interval,\n",
    "    X_nb_point=X_nb_point,\n",
    "    psi=psi_0,\n",
    "    bctype=\"transparent_potential\",\n",
    "    bc_right_left_value=bc_right_left_value,\n",
    "    V_independent=V_independent,\n",
    ");"
   ]
  },
  {
   "cell_type": "markdown",
   "metadata": {},
   "source": [
    "Now, we change the potential to be repulsive and compare the TBC that takes into account the potential `transparent_potential` and the one that does not `transparent_basic`."
   ]
  },
  {
   "cell_type": "code",
   "execution_count": 21,
   "metadata": {},
   "outputs": [],
   "source": [
    "def space_potential(x, t):\n",
    "    return 0.1 * np.abs(x) ** 2\n",
    "\n",
    "\n",
    "V_independent = space_potential\n",
    "bc_right_left_value = (0, 0)\n",
    "\n",
    "# Launch code\n",
    "schroedinger_simul_experience(\n",
    "    period_to_emulate=period_to_emulate,\n",
    "    T_nb_point=T_nb_point,\n",
    "    space_interval=space_interval,\n",
    "    X_nb_point=X_nb_point,\n",
    "    psi=psi_0,\n",
    "    bctype=\"transparent_basic\",\n",
    "    bc_right_left_value=bc_right_left_value,\n",
    "    V_independent=V_independent,\n",
    ")\n",
    "\n",
    "schroedinger_simul_experience(\n",
    "    period_to_emulate=period_to_emulate,\n",
    "    T_nb_point=T_nb_point,\n",
    "    space_interval=space_interval,\n",
    "    X_nb_point=X_nb_point,\n",
    "    psi=psi_0,\n",
    "    bctype=\"transparent_potential\",\n",
    "    bc_right_left_value=bc_right_left_value,\n",
    "    V_independent=V_independent,\n",
    ");"
   ]
  },
  {
   "cell_type": "markdown",
   "metadata": {},
   "source": [
    "### 3.5) Perfectly Matched Layers\n"
   ]
  },
  {
   "cell_type": "code",
   "execution_count": 22,
   "metadata": {},
   "outputs": [],
   "source": [
    "# Space mesh\n",
    "space_interval = (-15,15)\n",
    "X_nb_point = 501\n",
    "\n",
    "# PML param (Included in space_interval)\n",
    "delta = (5.0, 5.0)\n",
    "sigma_0 = 0.05\n",
    "\n",
    "schroedinger_simul_experience(\n",
    "    period_to_emulate=period_to_emulate,\n",
    "    T_nb_point=T_nb_point,\n",
    "    space_interval=space_interval,\n",
    "    X_nb_point=X_nb_point,\n",
    "    psi=psi_0,\n",
    "    bctype=\"dirichlet\",\n",
    "    activate_PML=True,\n",
    "    delta = delta,\n",
    "    sigma_0 = sigma_0\n",
    ");"
   ]
  },
  {
   "cell_type": "markdown",
   "metadata": {},
   "source": [
    "### 3.6) Study of the error  \n",
    "Let first verify the exact solution"
   ]
  },
  {
   "cell_type": "code",
   "execution_count": 23,
   "metadata": {},
   "outputs": [],
   "source": [
    "from schroedinger_eq.schroedinger_exact_implementation import main_experience as schroedinger_exact_experience\n",
    "\n",
    "# Convolution exact solution parameter\n",
    "space_interval = (-10, 10)\n",
    "convol_interval = (-20, 20)\n",
    "convol_nb_point = 10000\n",
    "\n",
    "res_exact = schroedinger_exact_experience(\n",
    "        period_to_emulate=period_to_emulate,\n",
    "        T_nb_point=T_nb_point,\n",
    "        space_interval=space_interval,\n",
    "        X_nb_point=X_nb_point,\n",
    "        psi=psi_0,\n",
    "        convol_interval=convol_interval,\n",
    "        convol_nb_point=convol_nb_point,\n",
    "        bool_plot=True,\n",
    "    )"
   ]
  },
  {
   "cell_type": "markdown",
   "metadata": {},
   "source": [
    "#### 3.6.1) ABC\n",
    "\n",
    "*<u>Exact error:</u>*"
   ]
  },
  {
   "cell_type": "code",
   "execution_count": 24,
   "metadata": {},
   "outputs": [],
   "source": [
    "from schroedinger_eq.schroedinger_study_error import study_of_error as schroedinger_error_study\n",
    "\n",
    "# Time mesh\n",
    "period_to_emulate = 2\n",
    "T_nb_point  = 501\n",
    "\n",
    "# Space mesh\n",
    "space_interval  = (-10,10)\n",
    "X_nb_point  = 501\n",
    "\n",
    "psi_0 = single_wave\n",
    "\n",
    "res_exact, res_simul, abs_error = schroedinger_error_study(\n",
    "    period_to_emulate=period_to_emulate,\n",
    "    T_nb_point=T_nb_point,\n",
    "    space_interval=space_interval,\n",
    "    X_nb_point=X_nb_point,\n",
    "    psi=psi_0,\n",
    "    bctype=\"transparent_basic\",\n",
    "    convol_interval=convol_interval,\n",
    ")"
   ]
  },
  {
   "cell_type": "code",
   "execution_count": 25,
   "metadata": {},
   "outputs": [],
   "source": [
    "%%capture\n",
    "%matplotlib inline\n",
    "import matplotlib.animation as animation\n",
    "plt.rcParams[\"animation.html\"] = \"jshtml\"\n",
    "\n",
    "dt = period_to_emulate/T_nb_point\n",
    "nb_frames = 30\n",
    "\n",
    "fig, ax = plt.subplots(1, 2, figsize=(15, 5))\n",
    "def animate(i):\n",
    "    ind = int(i * T_nb_point / nb_frames)\n",
    "    # ind = i\n",
    "    ax[0].clear()\n",
    "    ax[1].clear()\n",
    "    ax[0].plot(x, res_exact[ind], label = \"exact\")\n",
    "    ax[0].plot(x, res_simul[ind], label = \"simul\")\n",
    "    ax[1].plot(x, np.abs(np.abs(res_exact[ind]) - np.abs(res_simul[ind])), label = \"error\")\n",
    "    ax[0].set_title('Plot of Schrodinger equation')\n",
    "    ax[0].set_xlabel('x')\n",
    "    ax[0].set_ylim(-2.1, 2.1)\n",
    "    ax[0].set_ylabel('Time')\n",
    "    ax[1].set_title('Error')\n",
    "    ax[1].set_xlabel('x')\n",
    "    # ax[1].set_ylim(-2.1, 2.1)\n",
    "    ax[1].set_ylabel('Time')\n",
    "    ax[0].legend()\n",
    "    ax[1].legend()\n",
    "    fig.suptitle(f\"State at t={(ind*dt):.6g}\", fontsize=16)\n",
    "\n",
    "ani = animation.FuncAnimation(fig, animate, frames=nb_frames, repeat=False)\n",
    "ani"
   ]
  },
  {
   "cell_type": "markdown",
   "metadata": {},
   "source": [
    "*<u>Isolating reflections:</u>*  \n",
    "As done for the wave equation, we compute an approximation on the normal domain with transparent boundary condition, stored in $\\psi$, and compute an other approximation on a larger domain, named $\\phi$. Then the reflections are isolated plotting the function $\\psi - \\phi|_\\Omega$."
   ]
  },
  {
   "cell_type": "code",
   "execution_count": 27,
   "metadata": {},
   "outputs": [],
   "source": [
    "from schroedinger_eq.schroedinger_study_error import isolate_reflections\n",
    "\n",
    "isolate_reflections(\n",
    "    period_to_emulate=period_to_emulate,\n",
    "    T_nb_point=501,\n",
    "    space_interval=space_interval,\n",
    "    X_nb_point=501,\n",
    "    psi=psi_0,\n",
    "    bctype=\"transparent_potential\",\n",
    ");"
   ]
  },
  {
   "cell_type": "markdown",
   "metadata": {},
   "source": [
    "#### 3.6.2) PML\n",
    "\n",
    "*<u>Exact error:</u>*  \n",
    "Note that in case of PML, study is reduced in the area of interest (i.e. simulation space without damping layers)."
   ]
  },
  {
   "cell_type": "code",
   "execution_count": 28,
   "metadata": {},
   "outputs": [],
   "source": [
    "delta = (0,3)\n",
    "space_interval  = (-10, 13)\n",
    "\n",
    "res_exact, res_simul, abs_error = schroedinger_error_study(\n",
    "    period_to_emulate=period_to_emulate,\n",
    "    T_nb_point=T_nb_point,\n",
    "    space_interval=space_interval,\n",
    "    X_nb_point=X_nb_point,\n",
    "    psi=psi_0,\n",
    "    bctype=\"dirichlet\",\n",
    "    activate_PML=True,\n",
    "    delta=delta,\n",
    "    convol_interval=convol_interval,\n",
    ")"
   ]
  },
  {
   "cell_type": "markdown",
   "metadata": {},
   "source": [
    "*<u>Isolating reflections:</u>*  "
   ]
  },
  {
   "cell_type": "code",
   "execution_count": 29,
   "metadata": {},
   "outputs": [],
   "source": [
    "from schroedinger_eq.schroedinger_study_error import isolate_reflections\n",
    "\n",
    "isolate_reflections(\n",
    "    period_to_emulate=period_to_emulate,\n",
    "    T_nb_point=T_nb_point,\n",
    "    space_interval=space_interval,\n",
    "    X_nb_point=X_nb_point,\n",
    "    psi=psi_0,\n",
    "    bctype=\"dirichlet\",\n",
    "    activate_PML=True,\n",
    "    delta=delta,\n",
    ");"
   ]
  },
  {
   "cell_type": "markdown",
   "metadata": {},
   "source": [
    "#### 3.6.3) ABC + PML\n",
    "\n",
    "*<u>Exact error:</u>*"
   ]
  },
  {
   "cell_type": "code",
   "execution_count": 30,
   "metadata": {},
   "outputs": [],
   "source": [
    "delta = (0,3)\n",
    "space_interval  = (-10, 13)\n",
    "\n",
    "res_exact, res_simul, abs_error = schroedinger_error_study(\n",
    "    period_to_emulate=period_to_emulate,\n",
    "    T_nb_point=T_nb_point,\n",
    "    space_interval=space_interval,\n",
    "    X_nb_point=X_nb_point,\n",
    "    psi=psi_0,\n",
    "    bctype=\"transparent_basic\",\n",
    "    activate_PML=True,\n",
    "    delta=delta,\n",
    "    convol_interval=convol_interval,\n",
    ")"
   ]
  },
  {
   "cell_type": "markdown",
   "metadata": {},
   "source": [
    "*<u>Isolating reflections:</u>*  "
   ]
  },
  {
   "cell_type": "code",
   "execution_count": 31,
   "metadata": {},
   "outputs": [],
   "source": [
    "from schroedinger_eq.schroedinger_study_error import isolate_reflections\n",
    "\n",
    "isolate_reflections(\n",
    "    period_to_emulate=period_to_emulate,\n",
    "    T_nb_point=T_nb_point,\n",
    "    space_interval=space_interval,\n",
    "    X_nb_point=X_nb_point,\n",
    "    psi=psi_0,\n",
    "    bctype=\"transparent_basic\",\n",
    "    activate_PML=True,\n",
    "    delta=delta,\n",
    ");"
   ]
  },
  {
   "cell_type": "markdown",
   "metadata": {},
   "source": [
    "#### Disgression: For glory, all together"
   ]
  },
  {
   "cell_type": "code",
   "execution_count": 32,
   "metadata": {},
   "outputs": [],
   "source": [
    "def space_potential(x, t):\n",
    "    return -0.1 * np.abs(x) ** 2\n",
    "\n",
    "# Time mesh\n",
    "period_to_emulate = 2\n",
    "T_nb_point = 501\n",
    "\n",
    "# Space mesh\n",
    "space_interval = (-15,15)\n",
    "X_nb_point = 1001\n",
    "\n",
    "# PML param\n",
    "delta = (5.0, 5.0)\n",
    "\n",
    "V_independent = space_potential\n",
    "\n",
    "from schroedinger_eq.schroedinger_simul_implementation import main_experience as schroedinger_simul_experience\n",
    "\n",
    "schroedinger_simul_experience(\n",
    "    period_to_emulate=period_to_emulate,\n",
    "    T_nb_point=T_nb_point,\n",
    "    space_interval=space_interval,\n",
    "    X_nb_point=X_nb_point,\n",
    "    psi=psi_0,\n",
    "    bctype=\"transparent_potential\",\n",
    "    activate_PML=True,\n",
    "    delta = delta,\n",
    "    V_independent=V_independent,\n",
    ");"
   ]
  },
  {
   "cell_type": "markdown",
   "metadata": {},
   "source": [
    "# Appendix: \n",
    "# E - Diffusion equation\n"
   ]
  },
  {
   "cell_type": "markdown",
   "metadata": {},
   "source": [
    "### E.1 - Homogeneous diffusion equation\n",
    "We simulate the wave equation\n",
    "\\begin{equation*}\n",
    "    \\partial_t \\psi-c\\partial_{xx} \\psi=0,\n",
    "\\end{equation*}\n",
    "with $c>0$.\n",
    "We are going to make simulation with:\n",
    "\\begin{equation*}\n",
    "T=0.1,~\\#T_{\\text{mesh}} = 500,~x\\in[0,2],~\\#X_{\\text{mesh}} = 300 \\text{ and }~c = 2.\n",
    "\\end{equation*}\n",
    "  \n",
    "Let's then define simulation variable."
   ]
  },
  {
   "cell_type": "code",
   "execution_count": 33,
   "metadata": {},
   "outputs": [],
   "source": [
    "import numpy as np\n",
    "\n",
    "# Importation of the function\n",
    "from homogoneous_diffusion_eq.diffusion_simul_implementation import (\n",
    "    main_experience as diffusion_experience,\n",
    ")\n",
    "\n",
    "# Time mesh\n",
    "period_to_emulate = 1\n",
    "T_nb_point = 500\n",
    "\n",
    "# Space mesh\n",
    "space_interval = (0, 2)\n",
    "X_nb_point = 300\n",
    "\n",
    "# Celerity\n",
    "c = 2"
   ]
  },
  {
   "cell_type": "markdown",
   "metadata": {},
   "source": [
    "The proposed initial condition is a **double gaussian** as following.  "
   ]
  },
  {
   "cell_type": "code",
   "execution_count": 34,
   "metadata": {},
   "outputs": [],
   "source": [
    "import matplotlib.pyplot as plt\n",
    "\n",
    "\n",
    "# Initial condition (a default function is implemented)\n",
    "def double_bump(x):\n",
    "    psi_0_x = []\n",
    "    a_1, b_1 = 0.1 * (space_interval[1] - space_interval[0]), 0.2 * (space_interval[1] - space_interval[0])\n",
    "    a_2, b_2 = 0.6 * (space_interval[1] - space_interval[0]), 0.8 * (space_interval[1] - space_interval[0])\n",
    "    for val in x:\n",
    "        if a_1 <= val - space_interval[0] <= b_1:\n",
    "            psi_0_x.append(np.abs(np.sin(val * np.pi / (b_1 - a_1))))\n",
    "        elif a_2 <= val - space_interval[0] <= b_2:\n",
    "            psi_0_x.append(np.abs(np.sin(val * np.pi / (b_2 - a_2))))\n",
    "        else:\n",
    "            psi_0_x.append(0)\n",
    "    return np.array(psi_0_x)\n",
    "\n",
    "\n",
    "psi_0 = double_bump\n",
    "\n",
    "interval_inf = space_interval[0]\n",
    "interval_sup = space_interval[1]\n",
    "x = np.linspace(interval_inf, interval_sup, X_nb_point)\n",
    "plt.plot(x, psi_0(x))\n",
    "plt.title(\n",
    "    r\"Graph of $\\psi_0$ with $||\\psi_0||_{L_1}=$\"\n",
    "    + f\"{np.round(np.sum(np.abs(psi_0(x)))/X_nb_point, 4)}\"\n",
    ")\n",
    "plt.show()"
   ]
  },
  {
   "cell_type": "markdown",
   "metadata": {},
   "source": [
    "#### E.1.1) Dirichlet boundary condition"
   ]
  },
  {
   "cell_type": "code",
   "execution_count": 35,
   "metadata": {},
   "outputs": [],
   "source": [
    "# Value at boundaries\n",
    "dirichlet_bcvalues = (0, 0)\n",
    "\n",
    "# Launch code\n",
    "diffusion_experience(\n",
    "    period_to_emulate=period_to_emulate,\n",
    "    T_nb_point=T_nb_point,\n",
    "    space_interval=space_interval,\n",
    "    X_nb_point=X_nb_point,\n",
    "    c=c,\n",
    "    psi=psi_0,\n",
    "    bctype=\"dirichlet\",\n",
    "    bcvalues=dirichlet_bcvalues,\n",
    ");"
   ]
  },
  {
   "cell_type": "markdown",
   "metadata": {},
   "source": [
    "#### E.1.2) Dirichlet boundary condition"
   ]
  },
  {
   "cell_type": "code",
   "execution_count": 36,
   "metadata": {},
   "outputs": [],
   "source": [
    "# Value at boundaries\n",
    "neumann_bcvalues = (0, 0)\n",
    "\n",
    "# Launch code\n",
    "diffusion_experience(\n",
    "    period_to_emulate=period_to_emulate,\n",
    "    T_nb_point=T_nb_point,\n",
    "    space_interval=space_interval,\n",
    "    X_nb_point=X_nb_point,\n",
    "    c=c,\n",
    "    psi=psi_0,\n",
    "    bctype=\"neumann\",\n",
    "    bcvalues=neumann_bcvalues,\n",
    ");"
   ]
  },
  {
   "cell_type": "markdown",
   "metadata": {},
   "source": [
    "### E.2 - Nonhomogeneous diffusion equation\n",
    "We simulate the nonhomogeneous diffusion equation\n",
    "\\begin{equation}\n",
    "    \\partial_t \\psi-c\\partial_{xx} \\psi + V = 0,\n",
    "\\end{equation}\n",
    "with $c>0$.\n",
    "We are going to make simulation with:\n",
    "\\begin{equation*}\n",
    "T=0.1,~\\#T_{\\text{mesh}} = 500,~x\\in[0,2],~\\#X_{\\text{mesh}} = 300 \\text{ and }~c = 2.\n",
    "\\end{equation*}\n",
    "  \n",
    "Let's then define simulation variable."
   ]
  },
  {
   "cell_type": "markdown",
   "metadata": {},
   "source": [
    "## F - Diffusion-Reaction equation\n",
    "We simulate the diffusion-reaction diffusion equation\n",
    "\\begin{equation}\n",
    "    \\partial_t \\psi-c\\partial_{xx} \\psi= cV\\psi,\n",
    "\\end{equation}\n",
    "with $c>0$.\n",
    "We are going to make simulation with:\n",
    "\\begin{equation*}\n",
    "T=0.1,~\\#T_{\\text{mesh}} = 500,~x\\in[0,2],~\\#X_{\\text{mesh}} = 300 \\text{ and }~c = 2.\n",
    "\\end{equation*}\n",
    "  \n",
    "Let's then define simulation variable."
   ]
  }
 ],
 "metadata": {
  "kernelspec": {
   "display_name": "modeling-seminar",
   "language": "python",
   "name": "python3"
  },
  "language_info": {
   "codemirror_mode": {
    "name": "ipython",
    "version": 3
   },
   "file_extension": ".py",
   "mimetype": "text/x-python",
   "name": "python",
   "nbconvert_exporter": "python",
   "pygments_lexer": "ipython3",
   "version": "3.10.14"
  },
  "orig_nbformat": 4
 },
 "nbformat": 4,
 "nbformat_minor": 2
}
